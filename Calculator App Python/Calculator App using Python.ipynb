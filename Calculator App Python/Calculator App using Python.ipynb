{
 "cells": [
  {
   "cell_type": "markdown",
   "metadata": {},
   "source": [
    "# Calculator App using Python 3"
   ]
  },
  {
   "cell_type": "code",
   "execution_count": 1,
   "metadata": {},
   "outputs": [
    {
     "name": "stdout",
     "output_type": "stream",
     "text": [
      "Caluculator\n",
      "Enter your First Value : 70\n",
      "Enter your Second Value : 60\n",
      "Enter Operator Here : Subtraction\n",
      "Answer =  10\n"
     ]
    }
   ],
   "source": [
    "print (\"Caluculator\")\n",
    "value1 = int(input(\"Enter your First Value : \"))\n",
    "value2 = int(input(\"Enter your Second Value : \"))\n",
    "operator = input (\"Enter Operator Here : \")\n",
    "\n",
    "if operator == 'Addition':\n",
    "    val = value1 + value2\n",
    "    print(\"Answer = \", val)\n",
    "    \n",
    "elif operator == 'Subtraction':\n",
    "    val = value1 - value2\n",
    "    print(\"Answer = \", val)\n",
    "    \n",
    "elif operator == 'Multiplication':\n",
    "    val = value1 * value2\n",
    "    print(\"Answer = \", val)\n",
    "    \n",
    "elif operator == 'Division':\n",
    "    val = value1 / value2\n",
    "    print(\"Answer = \", val)\n",
    "    \n",
    "elif operator == 'Square Root':\n",
    "    val = value1 ** value2\n",
    "    print(\"Answer = \", val)\n",
    "    \n",
    "elif operator == 'Modulus':\n",
    "    val = value1 % value2\n",
    "    print(\"Answer = \", val)\n",
    "else :\n",
    "    print(\"Please Enter Correct Operator\")\n"
   ]
  },
  {
   "cell_type": "code",
   "execution_count": null,
   "metadata": {},
   "outputs": [],
   "source": []
  }
 ],
 "metadata": {
  "kernelspec": {
   "display_name": "Python 3",
   "language": "python",
   "name": "python3"
  },
  "language_info": {
   "codemirror_mode": {
    "name": "ipython",
    "version": 3
   },
   "file_extension": ".py",
   "mimetype": "text/x-python",
   "name": "python",
   "nbconvert_exporter": "python",
   "pygments_lexer": "ipython3",
   "version": "3.7.4"
  }
 },
 "nbformat": 4,
 "nbformat_minor": 2
}
